{
 "cells": [
  {
   "cell_type": "markdown",
   "metadata": {},
   "source": [
    "<b> Visual Analytics 2015 </b>\n",
    "\n",
    "Johannes Wöß, k1255503\n",
    "\n",
    "<b> Chosen Dataset:</b>  http://data.gov.uk -> Road Safety Statistics 2014"
   ]
  },
  {
   "cell_type": "code",
   "execution_count": 1,
   "metadata": {
    "collapsed": false
   },
   "outputs": [
    {
     "name": "stderr",
     "output_type": "stream",
     "text": [
      "D:\\Programme\\Anaconda3\\lib\\site-packages\\matplotlib\\__init__.py:872: UserWarning: axes.color_cycle is deprecated and replaced with axes.prop_cycle; please use the latter.\n",
      "  warnings.warn(self.msg_depr % (key, alt_key))\n",
      "D:\\Programme\\Anaconda3\\lib\\site-packages\\IPython\\html.py:14: ShimWarning: The `IPython.html` package has been deprecated. You should import from `notebook` instead. `IPython.html.widgets` has moved to `ipywidgets`.\n",
      "  \"`IPython.html.widgets` has moved to `ipywidgets`.\", ShimWarning)\n"
     ]
    }
   ],
   "source": [
    "#disable some annoying warning\n",
    "import warnings\n",
    "warnings.filterwarnings('ignore', category=FutureWarning)\n",
    "\n",
    "#include some package which we use later on\n",
    "import numpy as np\n",
    "import pandas as pd\n",
    "\n",
    "#plots the figures in place instead of a new window\n",
    "%matplotlib inline\n",
    "import matplotlib.pyplot as plt\n",
    "import seaborn as sns\n",
    "\n",
    "#imports for clustering\n",
    "import sklearn.datasets\n",
    "from sklearn.feature_extraction import DictVectorizer\n",
    "from sklearn.cluster import KMeans\n",
    "from sklearn.tree import DecisionTreeClassifier\n",
    "from sklearn.metrics import accuracy_score\n",
    "from sklearn import manifold\n",
    "import matplotlib.patches as mpatches\n",
    "from sklearn import decomposition\n",
    "\n",
    "#import for interactive plotting\n",
    "from IPython.html.widgets import interact"
   ]
  },
  {
   "cell_type": "code",
   "execution_count": 2,
   "metadata": {
    "collapsed": true
   },
   "outputs": [],
   "source": [
    "#legend to the number codes in the dataset\n",
    "road_types = {1:'Roundabout', 2:'One way street', 3:'Dual carriageway', 6:'Single carriageway', 7:'Slip road', 9:'Unknown', 12:'One way street/Slip road'}\n",
    "light_conditions = {1:'Daylight', 4:'Darkness - lights lit', 5:'Darkness - lights unlit', 6:'Darkness - no lighting', 7:'Darkness - lighting unknown'}\n",
    "weather_conditions = {1:'Fine no high winds', 2:'Raining no high winds', 3:'Snowing no high winds', 4:'Fine + high winds', 5:'Raining + high winds', 6:'Snowing + high winds', 7:'Fog or mist', 8:'Other', 9:'Unknown'}\n",
    "road_conditions = {1:'Dry', 2:'Wet or damp', 3:'Snow', 4:'Frost or ice', 5:'Flood over 3cm. deep', 6:'Oil or diesel', 7:'Mud'}\n",
    "accident_severity = {1:'Fatal', 2:'Serious', 3:'Slight'}\n",
    "day_of_week = {1:'Sunday', 2:'Monday', 3:'Tuesday', 4:'Wednesday', 5:'Thursday', 6:'Friday', 7:'Saturday'}"
   ]
  },
  {
   "cell_type": "code",
   "execution_count": 3,
   "metadata": {
    "collapsed": false
   },
   "outputs": [],
   "source": [
    "#read dataset\n",
    "accidents = pd.read_csv('data/roadsafety_uk_2014.csv')\n",
    "accidents.index = accidents.pop('﻿Accident_Index')\n",
    "accFilt = accidents.drop(axis=1, labels=['Location_Easting_OSGR', 'Location_Northing_OSGR', 'Police_Force'])\n",
    "accFilt =   accFilt.drop(axis=1, labels=['Local_Authority_(District)', 'Local_Authority_(Highway)'])\n",
    "accFilt =   accFilt.drop(axis=1, labels=['Did_Police_Officer_Attend_Scene_of_Accident', 'LSOA_of_Accident_Location'])\n",
    "accFilt['Date'] = pd.to_datetime(accFilt['Date'])\n",
    "accFilt = accFilt[(accFilt[:]) != -1]\n",
    "accFilt.size / accFilt.columns.size\n",
    "#optional for better readability\n",
    "accFilt['Weather_Conditions'].replace(weather_conditions, inplace=True)\n",
    "accFilt['Road_Type'].replace(road_types, inplace=True)\n",
    "accFilt['Road_Surface_Conditions'].replace(road_conditions, inplace=True)\n",
    "accFilt['Light_Conditions'].replace(light_conditions, inplace=True)\n",
    "#accFilt['Accident_Severity'].replace(accident_severity, inplace=True) not used so we can cluster for it\n",
    "accFilt['Day_of_Week'].replace(day_of_week, inplace=True)"
   ]
  },
  {
   "cell_type": "code",
   "execution_count": 4,
   "metadata": {
    "collapsed": false
   },
   "outputs": [
    {
     "data": {
      "text/html": [
       "<div>\n",
       "<table border=\"1\" class=\"dataframe\">\n",
       "  <thead>\n",
       "    <tr style=\"text-align: right;\">\n",
       "      <th></th>\n",
       "      <th>Weather_Conditions</th>\n",
       "      <th>Light_Conditions</th>\n",
       "      <th>Road_Surface_Conditions</th>\n",
       "      <th>Road_Type</th>\n",
       "      <th>Speed_limit</th>\n",
       "      <th>Day_of_Week</th>\n",
       "      <th>Accident_Severity</th>\n",
       "    </tr>\n",
       "    <tr>\n",
       "      <th>﻿Accident_Index</th>\n",
       "      <th></th>\n",
       "      <th></th>\n",
       "      <th></th>\n",
       "      <th></th>\n",
       "      <th></th>\n",
       "      <th></th>\n",
       "      <th></th>\n",
       "    </tr>\n",
       "  </thead>\n",
       "  <tbody>\n",
       "    <tr>\n",
       "      <th>201401BS70001</th>\n",
       "      <td>Raining no high winds</td>\n",
       "      <td>Daylight</td>\n",
       "      <td>Wet or damp</td>\n",
       "      <td>Single carriageway</td>\n",
       "      <td>30</td>\n",
       "      <td>Thursday</td>\n",
       "      <td>3</td>\n",
       "    </tr>\n",
       "    <tr>\n",
       "      <th>20144100T3019</th>\n",
       "      <td>Raining + high winds</td>\n",
       "      <td>Daylight</td>\n",
       "      <td>Wet or damp</td>\n",
       "      <td>Dual carriageway</td>\n",
       "      <td>70</td>\n",
       "      <td>Wednesday</td>\n",
       "      <td>3</td>\n",
       "    </tr>\n",
       "    <tr>\n",
       "      <th>20144100T3102</th>\n",
       "      <td>Fine no high winds</td>\n",
       "      <td>Daylight</td>\n",
       "      <td>Dry</td>\n",
       "      <td>Dual carriageway</td>\n",
       "      <td>70</td>\n",
       "      <td>Saturday</td>\n",
       "      <td>3</td>\n",
       "    </tr>\n",
       "    <tr>\n",
       "      <th>20144100T3093</th>\n",
       "      <td>Fine no high winds</td>\n",
       "      <td>Daylight</td>\n",
       "      <td>Dry</td>\n",
       "      <td>Dual carriageway</td>\n",
       "      <td>70</td>\n",
       "      <td>Wednesday</td>\n",
       "      <td>3</td>\n",
       "    </tr>\n",
       "    <tr>\n",
       "      <th>20144100T3091</th>\n",
       "      <td>Fine no high winds</td>\n",
       "      <td>Daylight</td>\n",
       "      <td>Dry</td>\n",
       "      <td>Dual carriageway</td>\n",
       "      <td>70</td>\n",
       "      <td>Tuesday</td>\n",
       "      <td>3</td>\n",
       "    </tr>\n",
       "  </tbody>\n",
       "</table>\n",
       "</div>"
      ],
      "text/plain": [
       "                    Weather_Conditions Light_Conditions  \\\n",
       "﻿Accident_Index                                           \n",
       "201401BS70001    Raining no high winds         Daylight   \n",
       "20144100T3019     Raining + high winds         Daylight   \n",
       "20144100T3102       Fine no high winds         Daylight   \n",
       "20144100T3093       Fine no high winds         Daylight   \n",
       "20144100T3091       Fine no high winds         Daylight   \n",
       "\n",
       "                Road_Surface_Conditions           Road_Type  Speed_limit  \\\n",
       "﻿Accident_Index                                                            \n",
       "201401BS70001               Wet or damp  Single carriageway           30   \n",
       "20144100T3019               Wet or damp    Dual carriageway           70   \n",
       "20144100T3102                       Dry    Dual carriageway           70   \n",
       "20144100T3093                       Dry    Dual carriageway           70   \n",
       "20144100T3091                       Dry    Dual carriageway           70   \n",
       "\n",
       "                Day_of_Week  Accident_Severity  \n",
       "﻿Accident_Index                                 \n",
       "201401BS70001      Thursday                  3  \n",
       "20144100T3019     Wednesday                  3  \n",
       "20144100T3102      Saturday                  3  \n",
       "20144100T3093     Wednesday                  3  \n",
       "20144100T3091       Tuesday                  3  "
      ]
     },
     "execution_count": 4,
     "metadata": {},
     "output_type": "execute_result"
    }
   ],
   "source": [
    "#We choose what we think gives us good classification for the Accident_Severity\n",
    "result = accFilt[['Weather_Conditions', 'Light_Conditions', 'Road_Surface_Conditions', 'Road_Type', 'Speed_limit', 'Day_of_Week', 'Accident_Severity']]\n",
    "result.sort('Accident_Severity', ascending=False).head(5)"
   ]
  },
  {
   "cell_type": "code",
   "execution_count": 19,
   "metadata": {
    "collapsed": false
   },
   "outputs": [],
   "source": [
    "#creates dictionary in the form of [{column -> value, column -> value, ...}, {...}]\n",
    "dictl = result.to_dict('records')"
   ]
  },
  {
   "cell_type": "code",
   "execution_count": 119,
   "metadata": {
    "collapsed": false
   },
   "outputs": [
    {
     "data": {
      "text/plain": [
       "array([[ 0.,  0.,  1., ...,  0.,  0.,  0.],\n",
       "       [ 0.,  0.,  1., ...,  0.,  0.,  0.],\n",
       "       [ 0.,  0.,  1., ...,  0.,  0.,  0.],\n",
       "       ..., \n",
       "       [ 0.,  0.,  1., ...,  0.,  0.,  0.],\n",
       "       [ 0.,  1.,  0., ...,  0.,  0.,  0.],\n",
       "       [ 0.,  0.,  1., ...,  0.,  0.,  0.]])"
      ]
     },
     "execution_count": 119,
     "metadata": {},
     "output_type": "execute_result"
    }
   ],
   "source": [
    "#Creates dummy columns for each categorical value in the dataset\n",
    "vec = DictVectorizer()\n",
    "tf_acc = vec.fit_transform(dictl)\n",
    "tf_acc.toarray()"
   ]
  },
  {
   "cell_type": "code",
   "execution_count": 5,
   "metadata": {
    "collapsed": false
   },
   "outputs": [
    {
     "data": {
      "text/plain": [
       "array([[ 30.,   3.,   0., ...,   1.,   0.,   0.],\n",
       "       [ 30.,   3.,   0., ...,   0.,   0.,   0.],\n",
       "       [ 30.,   3.,   0., ...,   0.,   1.,   0.],\n",
       "       ..., \n",
       "       [ 40.,   3.,   0., ...,   0.,   1.,   0.],\n",
       "       [ 60.,   2.,   0., ...,   0.,   0.,   1.],\n",
       "       [ 60.,   3.,   0., ...,   0.,   0.,   1.]])"
      ]
     },
     "execution_count": 5,
     "metadata": {},
     "output_type": "execute_result"
    }
   ],
   "source": [
    "#Instead of the above, i used the pandas function get_dummies (basically the same)\n",
    "dummies = pd.get_dummies(result)\n",
    "dummies.as_matrix()"
   ]
  },
  {
   "cell_type": "code",
   "execution_count": 20,
   "metadata": {
    "collapsed": false
   },
   "outputs": [],
   "source": [
    "#splitting our dataset into data and a target vector\n",
    "dummies_data = dummies.drop('Accident_Severity', axis=1)\n",
    "dummies_target = dummies[['Accident_Severity']]"
   ]
  },
  {
   "cell_type": "code",
   "execution_count": 7,
   "metadata": {
    "collapsed": false
   },
   "outputs": [
    {
     "data": {
      "text/plain": [
       "array([0, 0, 0, ..., 2, 1, 1])"
      ]
     },
     "execution_count": 7,
     "metadata": {},
     "output_type": "execute_result"
    }
   ],
   "source": [
    "#KMeans prediction\n",
    "dummies_pred = KMeans(n_clusters=3, random_state = 102).fit_predict(dummies_data)\n",
    "dummies_pred"
   ]
  },
  {
   "cell_type": "code",
   "execution_count": 21,
   "metadata": {
    "collapsed": false
   },
   "outputs": [
    {
     "data": {
      "text/plain": [
       "﻿Accident_Index\n",
       "201401BS70001    3\n",
       "201401BS70002    3\n",
       "201401BS70003    3\n",
       "201401BS70004    3\n",
       "201401BS70006    3\n",
       "201401BS70008    3\n",
       "201401BS70009    3\n",
       "201401BS70010    3\n",
       "201401BS70011    3\n",
       "201401BS70013    3\n",
       "201401BS70014    2\n",
       "201401BS70015    3\n",
       "201401BS70016    2\n",
       "201401BS70017    3\n",
       "201401BS70018    2\n",
       "201401BS70020    3\n",
       "201401BS70022    2\n",
       "201401BS70023    3\n",
       "201401BS70024    2\n",
       "201401BS70025    3\n",
       "201401BS70026    3\n",
       "201401BS70027    3\n",
       "201401BS70028    3\n",
       "201401BS70029    3\n",
       "201401BS70030    3\n",
       "201401BS70032    2\n",
       "201401BS70033    3\n",
       "201401BS70034    3\n",
       "201401BS70035    3\n",
       "201401BS70036    3\n",
       "                ..\n",
       "2014984128614    2\n",
       "2014984128714    3\n",
       "2014984128914    3\n",
       "2014984129114    3\n",
       "2014984129514    3\n",
       "2014984129614    2\n",
       "2014984129714    3\n",
       "2014984130114    2\n",
       "2014984130714    3\n",
       "2014984131014    3\n",
       "2014984131214    3\n",
       "2014984131414    2\n",
       "2014984131714    3\n",
       "2014984132014    3\n",
       "2014984132714    3\n",
       "2014984133414    2\n",
       "2014984133514    3\n",
       "2014984133714    3\n",
       "2014984133914    2\n",
       "2014984134314    3\n",
       "2014984134614    3\n",
       "2014984134914    1\n",
       "2014984135714    3\n",
       "2014984135914    3\n",
       "2014984136214    3\n",
       "2014984136414    2\n",
       "2014984137514    3\n",
       "2014984137714    3\n",
       "2014984138414    2\n",
       "2014984139614    3\n",
       "Name: Accident_Severity, dtype: int64"
      ]
     },
     "execution_count": 21,
     "metadata": {},
     "output_type": "execute_result"
    }
   ],
   "source": [
    "#our target vector\n",
    "dummies_target['Accident_Severity']"
   ]
  },
  {
   "cell_type": "code",
   "execution_count": null,
   "metadata": {
    "collapsed": false
   },
   "outputs": [],
   "source": [
    "#plotting the KMeans\n",
    "plt.figure(figsize=(12, 12))\n",
    "\n",
    "colors = sns.color_palette()\n",
    "\n",
    "plt.subplot(211)\n",
    "plt.scatter(dummies_data.as_matrix()[:, 0], dummies_data.as_matrix()[:, 1], c=[colors[i] for i in dummies_pred], s=40)\n",
    "plt.title('KMeans-3 clusterer')\n",
    "\n",
    "plt.subplot(212)\n",
    "plt.scatter(dummies_data.as_matrix()[:, 0], dummies_data.as_matrix()[:, 1], c=[colors[i] for i in dummies_target['Accident_Severity']], s=40)\n",
    "plt.title('Ground truth')\n"
   ]
  },
  {
   "cell_type": "code",
   "execution_count": 10,
   "metadata": {
    "collapsed": false
   },
   "outputs": [
    {
     "name": "stdout",
     "output_type": "stream",
     "text": [
      "(146322, 33) (117057, 33) (29265, 33)\n"
     ]
    }
   ],
   "source": [
    "#preparation for the decision tree\n",
    "dummies_train, dummies_test, target_train, target_test = sklearn.cross_validation.train_test_split(\n",
    "    dummies_data, dummies_target, test_size=0.20, random_state = 5)\n",
    "\n",
    "print(dummies_data.shape, dummies_train.shape, dummies_test.shape)"
   ]
  },
  {
   "cell_type": "code",
   "execution_count": 11,
   "metadata": {
    "collapsed": false
   },
   "outputs": [
    {
     "name": "stdout",
     "output_type": "stream",
     "text": [
      "Prediction accuracy:  0.843601571843\n"
     ]
    }
   ],
   "source": [
    "#supervised classification with decision tree\n",
    "instance = DecisionTreeClassifier()\n",
    "r = instance.fit(dummies_train, target_train)\n",
    "target_predict = instance.predict(dummies_test)\n",
    "\n",
    "\n",
    "print('Prediction accuracy: ',accuracy_score(target_predict, target_test))"
   ]
  },
  {
   "cell_type": "markdown",
   "metadata": {},
   "source": [
    "<b> Dimension Reduction </b>"
   ]
  },
  {
   "cell_type": "code",
   "execution_count": 12,
   "metadata": {
    "collapsed": false
   },
   "outputs": [
    {
     "data": {
      "text/plain": [
       "<matplotlib.collections.PathCollection at 0x1cdc3547278>"
      ]
     },
     "execution_count": 12,
     "metadata": {},
     "output_type": "execute_result"
    },
    {
     "data": {
      "image/png": "[encoded data removed]",
      "text/plain": [
       "<matplotlib.figure.Figure at 0x1cdc1b42940>"
      ]
     },
     "metadata": {},
     "output_type": "display_data"
    }
   ],
   "source": [
    "#MDS\n",
    "mds = manifold.MDS(n_components=2, random_state=5)\n",
    "\n",
    "#fit the model and get the embedded coordinates\n",
    "pos = mds.fit(dummies_data.head(1000).as_matrix()).embedding_\n",
    "\n",
    "plt.scatter(pos[:, 0], pos[:, 1], s=20, c=[colors[i] for i in dummies_target.head(1000)['Accident_Severity']])"
   ]
  },
  {
   "cell_type": "code",
   "execution_count": 13,
   "metadata": {
    "collapsed": false
   },
   "outputs": [
    {
     "data": {
      "text/plain": [
       "<matplotlib.text.Text at 0x1cdc41e6518>"
      ]
     },
     "execution_count": 13,
     "metadata": {},
     "output_type": "execute_result"
    },
    {
     "data": {
      "image/png": "[encoded data removed]",
      "text/plain": [
       "<matplotlib.figure.Figure at 0x1cdc3503be0>"
      ]
     },
     "metadata": {},
     "output_type": "display_data"
    }
   ],
   "source": [
    "#PCA\n",
    "pca = decomposition.PCA(n_components=2)\n",
    "pca_pos = pca.fit(dummies_data.head(1000).as_matrix()).transform(dummies_data.head(1000).as_matrix())\n",
    "\n",
    "mds_pos = mds.fit(dummies_data.head(1000).as_matrix()).embedding_\n",
    "\n",
    "#PCA vs MDS\n",
    "plt.figure(figsize=[20,7])\n",
    "plt.subplot(121)\n",
    "plt.scatter(mds_pos[:, 0], mds_pos[:, 1], s=30, c=[colors[i] for i in dummies_target.head(1000)['Accident_Severity']])\n",
    "plt.title('MDS')\n",
    "\n",
    "plt.subplot(122)\n",
    "plt.scatter(pca_pos[:, 0], pca_pos[:, 1], s=30, c=[colors[i] for i in dummies_target.head(1000)['Accident_Severity']])\n",
    "plt.title('PCA')"
   ]
  },
  {
   "cell_type": "code",
   "execution_count": 17,
   "metadata": {
    "collapsed": false
   },
   "outputs": [
    {
     "data": {
      "image/png": "[encoded data removed]",
      "text/plain": [
       "<matplotlib.figure.Figure at 0x1cdd36651d0>"
      ]
     },
     "metadata": {},
     "output_type": "display_data"
    }
   ],
   "source": [
    "#interactive widget\n",
    "colors = sns.color_palette(n_colors=10)\n",
    "\n",
    "@interact(algorithm=['PCA','MDS'], n_clusters=(1,10), n_components=(1, 10), random_state=(1, 100))\n",
    "def draw_plot(algorithm, n_clusters, n_components, random_state):\n",
    "    instance = KMeans(n_clusters=n_clusters, random_state = random_state)\n",
    "    clusters_assignment = instance.fit_predict(dummies_data.as_matrix())\n",
    "    \n",
    "    mds = manifold.MDS(n_components=n_components, random_state=random_state)\n",
    "    mds_pos = mds.fit(dummies_data.head(500).as_matrix()).embedding_\n",
    "\n",
    "    pca = decomposition.PCA(n_components=n_components)\n",
    "    pca_pos = pca.fit(dummies_data.head(500).as_matrix()).transform(dummies_data.head(500).as_matrix())\n",
    "\n",
    "    if algorithm == 'PCA':\n",
    "        plt.scatter(pca_pos[:, 0], pca_pos[:, 1], s=30, c=[colors[i] for i in clusters_assignment])\n",
    "        plt.title('PCA')\n",
    "    else:\n",
    "        plt.scatter(mds_pos[:, 0], mds_pos[:, 1], s=30, c=[colors[i] for i in clusters_assignment])\n",
    "        plt.title('MDS')"
   ]
  }
 ],
 "metadata": {
  "kernelspec": {
   "display_name": "Python 3",
   "language": "python",
   "name": "python3"
  },
  "language_info": {
   "codemirror_mode": {
    "name": "ipython",
    "version": 3
   },
   "file_extension": ".py",
   "mimetype": "text/x-python",
   "name": "python",
   "nbconvert_exporter": "python",
   "pygments_lexer": "ipython3",
   "version": "3.5.1"
  }
 },
 "nbformat": 4,
 "nbformat_minor": 0
}
