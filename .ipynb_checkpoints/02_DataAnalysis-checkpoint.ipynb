{
 "cells": [
  {
   "cell_type": "markdown",
   "metadata": {},
   "source": [
    "<b> Visual Analytics 2015 </b>\n",
    "\n",
    "Johannes Wöß, k1255503\n",
    "\n",
    "<b> Chosen Dataset:</b>  http://data.gov.uk -> Road Safety Statistics 2014"
   ]
  },
  {
   "cell_type": "code",
   "execution_count": null,
   "metadata": {
    "collapsed": true
   },
   "outputs": [],
   "source": [
    "#include some package which we use later on\n",
    "import numpy as np\n",
    "import pandas as pd\n",
    "import matplotlib.pyplot as plt"
   ]
  },
  {
   "cell_type": "code",
   "execution_count": null,
   "metadata": {
    "collapsed": false
   },
   "outputs": [],
   "source": [
    "#read dataset\n",
    "accidents = pd.read_csv('data/roadsafety_uk_2014.csv')\n",
    "accidents.index = accidents.pop('﻿Accident_Index')\n",
    "accFilt = accidents.drop(axis=1, labels=['Location_Easting_OSGR', 'Location_Northing_OSGR', 'Police_Force'])\n",
    "accFilt =   accFilt.drop(axis=1, labels=['Local_Authority_(District)', 'Local_Authority_(Highway)'])\n",
    "accFilt =   accFilt.drop(axis=1, labels=['Did_Police_Officer_Attend_Scene_of_Accident', 'LSOA_of_Accident_Location'])"
   ]
  },
  {
   "cell_type": "markdown",
   "metadata": {},
   "source": [
    "<b>Visualisation</b>"
   ]
  },
  {
   "cell_type": "code",
   "execution_count": null,
   "metadata": {
    "collapsed": false
   },
   "outputs": [],
   "source": [
    "accFilt.mean()"
   ]
  },
  {
   "cell_type": "code",
   "execution_count": null,
   "metadata": {
    "collapsed": true
   },
   "outputs": [],
   "source": []
  }
 ],
 "metadata": {
  "kernelspec": {
   "display_name": "Python 3",
   "language": "python",
   "name": "python3"
  },
  "language_info": {
   "codemirror_mode": {
    "name": "ipython",
    "version": 3
   },
   "file_extension": ".py",
   "mimetype": "text/x-python",
   "name": "python",
   "nbconvert_exporter": "python",
   "pygments_lexer": "ipython3",
   "version": "3.5.1"
  }
 },
 "nbformat": 4,
 "nbformat_minor": 0
}
