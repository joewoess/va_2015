{
 "cells": [
  {
   "cell_type": "markdown",
   "metadata": {},
   "source": [
    "# Introduction\n",
    "\n",
    "This project is hosted on GitHub: http://github.com/joewoess/va_2015 \n",
    "and deployed at http://mybinder.org/repo/joewoess/va_2015\n",
    "\n",
    "[![Binder](http://mybinder.org/badge.svg)](http://mybinder.org/repo/joewoess/va_2015)\n",
    "\n",
    "\n",
    "1. [Dataset wrangling](01_Dataset.ipynb)\n",
    "2. [Data analysis](02_DataAnalysis.ipynb)\n",
    "3. [Data Visualizations](03_Correlations.ipynb)\n",
    "4. [Classification and Interaction](04_Interactive.ipynb)\n"
   ]
  }
 ],
 "metadata": {
  "kernelspec": {
   "display_name": "Python 3",
   "language": "python",
   "name": "python3"
  },
  "language_info": {
   "codemirror_mode": {
    "name": "ipython",
    "version": 3
   },
   "file_extension": ".py",
   "mimetype": "text/x-python",
   "name": "python",
   "nbconvert_exporter": "python",
   "pygments_lexer": "ipython3",
   "version": "3.4.3"
  }
 },
 "nbformat": 4,
 "nbformat_minor": 0
}
