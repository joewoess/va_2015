{
 "cells": [
  {
   "cell_type": "markdown",
   "metadata": {},
   "source": [
    "# Introduction\n",
    "\n",
    "Welcome to this Python tutorial for Data Science in Visual Analytics. This tutorial is based on a tutorial given by [St�fan van der Walt](https://github.com/stefanv) (@stefanvdwalt)  at VIS 2015. \n",
    "\n",
    "This tutorial is hosted on GitHub: http://github.com/sgratzl/ipython-tutorial-VA2015 \n",
    "and deployed at http://mybinder.org/repo/sgratzl/ipython-tutorial-VA2015\n",
    "\n",
    "[![Binder](http://mybinder.org/badge.svg)](http://mybinder.org/repo/sgratzl/ipython-tutorial-VA2015)\n",
    "\n",
    "We will cover the following topics in roughly 1.5 hours. \n",
    "\n",
    "1. [Getting Started](01_GettingStarted.ipynb)\n",
    "2. [Data Manipulation with Numpy and Pandas](02_DataManipulation.ipynb)\n",
    "3. [(Interactive) Plotting using Matplotlib and Seaborn](03_Plotting.ipynb)\n",
    "4. [Machine Learning using Scikit Learn: Clustering, Decision Tree, and MDS](04_MachineLearning.ipynb)\n"
   ]
  }
 ],
 "metadata": {
  "kernelspec": {
   "display_name": "Python 3",
   "language": "python",
   "name": "python3"
  },
  "language_info": {
   "codemirror_mode": {
    "name": "ipython",
    "version": 3
   },
   "file_extension": ".py",
   "mimetype": "text/x-python",
   "name": "python",
   "nbconvert_exporter": "python",
   "pygments_lexer": "ipython3",
   "version": "3.4.3"
  }
 },
 "nbformat": 4,
 "nbformat_minor": 0
}
